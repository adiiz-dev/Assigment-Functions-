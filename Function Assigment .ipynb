{
 "cells": [
  {
   "cell_type": "markdown",
   "id": "ac6622f1-c974-4b02-ba19-4aad2b4c8b27",
   "metadata": {},
   "source": [
    "Q1. Create a python program to sort the given list of tuples based on integer value using a\n",
    "lambda function."
   ]
  },
  {
   "cell_type": "code",
   "execution_count": 34,
   "id": "3933aa51-003e-4189-9097-3e61acf7ab08",
   "metadata": {},
   "outputs": [
    {
     "name": "stdout",
     "output_type": "stream",
     "text": [
      "[('Virat Kohli', 24936), ('Jack Kallis', 25534), ('Ricky Ponting', 27483), ('Sachin Tendulkar', 34357)]\n"
     ]
    }
   ],
   "source": [
    "\n",
    "\n",
    "players = [('Sachin Tendulkar', 34357), ('Ricky Ponting', 27483), ('Jack Kallis', 25534), ('Virat Kohli', 24936)]\n",
    "\n",
    "sorted_players = sorted(players, key=lambda x: x[1])\n",
    "\n",
    "print(sorted_players)\n",
    "\n"
   ]
  },
  {
   "cell_type": "markdown",
   "id": "ec50d5c1-1a65-4966-9f15-565e8038c799",
   "metadata": {},
   "source": [
    "Q2. Write a Python Program to find the squares of all the numbers in the given list of integers using\n",
    "lambda and map functions.\n",
    "[1, 2, 3, 4, 5, 6, 7, 8, 9, 10]"
   ]
  },
  {
   "cell_type": "code",
   "execution_count": 35,
   "id": "7c3e9180-8cc8-4c53-bd65-787c6cf68c36",
   "metadata": {},
   "outputs": [
    {
     "name": "stdout",
     "output_type": "stream",
     "text": [
      "[1, 4, 27, 256, 3125, 46656, 823543, 16777216, 387420489, 10000000000]\n"
     ]
    }
   ],
   "source": [
    "# solution  \n",
    "numbers= [1, 2, 3, 4, 5, 6, 7, 8, 9, 10]\n",
    "squares= list(map(lambda x: x**x , numbers)) \n",
    "print(squares)"
   ]
  },
  {
   "cell_type": "markdown",
   "id": "428e80b7-9d11-487d-8fdc-c801d5e26bde",
   "metadata": {},
   "source": [
    "# Question 3\n",
    "Q3. Write a python program to convert the given list of integers into a tuple of strings. Use map and\n",
    "lambda functions\n",
    "Given String: [1, 2, 3, 4, 5, 6, 7, 8, 9, 10]\n",
    "Expected output: ('1', '2', '3', '4', '5', '6', '7', '8', '9', '10')"
   ]
  },
  {
   "cell_type": "code",
   "execution_count": 13,
   "id": "659dad6b-8507-40bc-a139-1b126ac5f802",
   "metadata": {},
   "outputs": [
    {
     "name": "stdout",
     "output_type": "stream",
     "text": [
      "('1', '2', '3', '4', '5', '6', '7', '8', '9', '10')\n"
     ]
    }
   ],
   "source": [
    "#Answer \n",
    "numbers= [1,2,3,4,5,6,7,8,9,10]\n",
    "string = tuple (map(lambda x  : str(x),numbers))\n",
    "print(string)"
   ]
  },
  {
   "cell_type": "markdown",
   "id": "dd57ee69-6a70-4a0a-b86a-ba355efee9b3",
   "metadata": {},
   "source": [
    "Q4. Write a python program using reduce function to compute the product of a list containing numbers\n",
    "from 1 to 25."
   ]
  },
  {
   "cell_type": "code",
   "execution_count": 20,
   "id": "da868064-cc74-4ba0-b937-45ed4a6e4e6c",
   "metadata": {},
   "outputs": [
    {
     "name": "stdout",
     "output_type": "stream",
     "text": [
      "15511210043330985984000000\n"
     ]
    }
   ],
   "source": [
    "# Answer\n",
    "from functools import reduce \n",
    "numbers = range(1,26)\n",
    "product= reduce(lambda x,y: x*y,numbers)\n",
    "print(product)"
   ]
  },
  {
   "cell_type": "code",
   "execution_count": 18,
   "id": "ce11a4c1-bb55-45c8-905b-5f1f6c5e9aee",
   "metadata": {},
   "outputs": [
    {
     "name": "stdout",
     "output_type": "stream",
     "text": [
      "15511210043330985984000000\n"
     ]
    }
   ],
   "source": [
    "from functools import reduce\n",
    "\n",
    "numbers = range(1, 26)\n",
    "\n",
    "product = reduce(lambda x, y: x*y, numbers)\n",
    "\n",
    "print(product)\n"
   ]
  },
  {
   "cell_type": "markdown",
   "id": "5202d2d1-387a-48dc-becd-f09a2458c9e0",
   "metadata": {},
   "source": [
    "Q5. Write a python program to filter the numbers in a given list that are divisible by 2 and 3 using the\n",
    "filter function.\n",
    "[2, 3, 6, 9, 27, 60, 90, 120, 55, 46]"
   ]
  },
  {
   "cell_type": "code",
   "execution_count": 31,
   "id": "48d79f39-cd99-4e7b-b9a6-a56e09fce027",
   "metadata": {},
   "outputs": [
    {
     "name": "stdout",
     "output_type": "stream",
     "text": [
      "[6, 60, 90, 120]\n"
     ]
    }
   ],
   "source": [
    "numbers=[2, 3, 6, 9, 27, 60, 90, 120, 55, 46]\n",
    "\n",
    "\n",
    "filtered_numbers = list(filter(lambda x: x % 2 == 0 and x % 3 == 0, numbers))\n",
    "                     \n",
    "print(filtered_numbers)"
   ]
  },
  {
   "cell_type": "markdown",
   "id": "2403042b-2250-4a69-988c-580e3f24671d",
   "metadata": {},
   "source": [
    "Q6. Write a python program to find palindromes in the given list of strings using lambda and filter\n",
    "function.\n",
    "['python', 'php', 'aba', 'radar', 'level']"
   ]
  },
  {
   "cell_type": "code",
   "execution_count": 33,
   "id": "92cb3cb3-d61e-49f0-81bd-f1aae633873f",
   "metadata": {},
   "outputs": [
    {
     "name": "stdout",
     "output_type": "stream",
     "text": [
      "['php', 'aba', 'radar', 'level']\n"
     ]
    }
   ],
   "source": [
    "string = ['python', 'php', 'aba', 'radar', 'level']\n",
    "\n",
    "palindrome_string= list(filter(lambda x : x==x[::-1] , string))\n",
    "\n",
    "print(palindrome_string)"
   ]
  },
  {
   "cell_type": "code",
   "execution_count": null,
   "id": "df8a54a2-c2b7-438e-a73d-674379851089",
   "metadata": {},
   "outputs": [],
   "source": []
  }
 ],
 "metadata": {
  "kernelspec": {
   "display_name": "Python 3 (ipykernel)",
   "language": "python",
   "name": "python3"
  },
  "language_info": {
   "codemirror_mode": {
    "name": "ipython",
    "version": 3
   },
   "file_extension": ".py",
   "mimetype": "text/x-python",
   "name": "python",
   "nbconvert_exporter": "python",
   "pygments_lexer": "ipython3",
   "version": "3.10.8"
  }
 },
 "nbformat": 4,
 "nbformat_minor": 5
}
